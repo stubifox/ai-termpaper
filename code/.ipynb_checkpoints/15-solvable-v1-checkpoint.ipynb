{
 "cells": [
  {
   "cell_type": "markdown",
   "metadata": {},
   "source": [
    "## Lösbarkeitsüberprüfung eines 15-Puzzels"
   ]
  },
  {
   "cell_type": "markdown",
   "metadata": {},
   "source": [
    "If N is even, puzzle instance is solvable if \n",
    "* the blank is on an even row counting from the bottom (second-last, fourth-last, etc.) and number of inversions is odd.\n",
    "* the blank is on an odd row counting from the bottom (last, third-last, fifth-last, etc.) and number of inversions is even.\n",
    "What is an inversion here? \n",
    "\n",
    "If we assume the tiles written out in a single row (1D Array) instead of being spread in N-rows (2D Array), a pair of tiles (a, b) form an inversion if a appears before b but a > b. \n",
    "\n",
    "For above example, consider the tiles written out in a row, like this: \n",
    "2 1 3 4 5 6 7 8 9 10 11 12 13 14 15 X \n",
    "The above grid forms only 1 inversion i.e. (2, 1)."
   ]
  },
  {
   "cell_type": "code",
   "execution_count": 183,
   "metadata": {},
   "outputs": [],
   "source": [
    "start = ( (13, 2, 10, 3),\n",
    "          (1, 12, 8, 4),\n",
    "          (5, 0, 9, 6),\n",
    "         (15, 14, 11, 7)\n",
    "        )\n",
    "start = ( (  0,  1,  2,  3 ),\n",
    "           (  4,  5,  6,  8 ),\n",
    "           ( 14,  7, 11, 10 ),\n",
    "           (  9, 15, 12, 13 )\n",
    "         )\n",
    "# start = (\n",
    "#     (6, 13, 7, 10),\n",
    "#     (8, 9, 11, 0),\n",
    "#     (15, 2, 12, 5),\n",
    "#     (14, 3, 1, 4)\n",
    "# )\n",
    "start = (\n",
    "(3, 9, 1, 15),\n",
    "    (14, 11, 4, 6),\n",
    "    (13, 0, 10 ,12),\n",
    "    (2, 7, 8, 5)\n",
    ")"
   ]
  },
  {
   "cell_type": "code",
   "execution_count": 184,
   "metadata": {},
   "outputs": [],
   "source": [
    "def to_1d(Puzzle: tuple) -> list:\n",
    "    return [elem for tupl in Puzzle for elem in tupl]"
   ]
  },
  {
   "cell_type": "code",
   "execution_count": 185,
   "metadata": {},
   "outputs": [],
   "source": [
    "def get_inversion_count(Puzzle: tuple) -> int:\n",
    "    working_1d_puzle = to_1d(Puzzle)\n",
    "    working_1d_puzle.remove(0)\n",
    "    count = 0\n",
    "    old_count = -1\n",
    "    while old_count != count:\n",
    "        old_count = count\n",
    "        for i in range(len(working_1d_puzle) - 1):\n",
    "            if working_1d_puzle[i] > working_1d_puzle[i + 1]:\n",
    "                count += 1\n",
    "                old_1d_index = working_1d_puzle[i]\n",
    "                working_1d_puzle[i] = working_1d_puzle[i + 1]\n",
    "                working_1d_puzle[i + 1] = old_1d_index\n",
    "    return count"
   ]
  },
  {
   "cell_type": "code",
   "execution_count": 186,
   "metadata": {},
   "outputs": [],
   "source": [
    "def get_blank_position(Puzzle: tuple, blank_spot_pos: int) -> int:\n",
    "    length = len(Puzzle)\n",
    "    index = to_1d(Puzzle).index(0) //length\n",
    "    if blank_spot_pos == 0:\n",
    "        return index + 1\n",
    "    return length - index"
   ]
  },
  {
   "cell_type": "code",
   "execution_count": 196,
   "metadata": {},
   "outputs": [],
   "source": [
    "def is_solvable_by_row(Puzzle: tuple, blank_spot_row: int) -> bool:\n",
    "    return (get_inversion_count(Puzzle) + get_blank_position(Puzzle, blank_spot_row)) % 2 == 1"
   ]
  },
  {
   "cell_type": "code",
   "execution_count": 197,
   "metadata": {},
   "outputs": [
    {
     "data": {
      "text/plain": [
       "True"
      ]
     },
     "execution_count": 197,
     "metadata": {},
     "output_type": "execute_result"
    }
   ],
   "source": [
    "is_solvable_by_row(start, 0)"
   ]
  },
  {
   "cell_type": "code",
   "execution_count": null,
   "metadata": {},
   "outputs": [],
   "source": []
  }
 ],
 "metadata": {
  "kernelspec": {
   "display_name": "Python 3",
   "language": "python",
   "name": "python3"
  },
  "language_info": {
   "codemirror_mode": {
    "name": "ipython",
    "version": 3
   },
   "file_extension": ".py",
   "mimetype": "text/x-python",
   "name": "python",
   "nbconvert_exporter": "python",
   "pygments_lexer": "ipython3",
   "version": "3.7.3"
  }
 },
 "nbformat": 4,
 "nbformat_minor": 2
}
