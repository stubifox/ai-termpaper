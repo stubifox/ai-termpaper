{
 "cells": [
  {
   "cell_type": "markdown",
   "metadata": {},
   "source": [
    "# Solvability of Instances of the 15-Puzzels"
   ]
  },
  {
   "cell_type": "markdown",
   "metadata": {},
   "source": [
    "#### The following notebook is a step through documentation on how to prove the solvability of an instance of a 15-Puzzle\n",
    "\n",
    "The authors of this notebook are [**Kai Fischer**](https://github.com/Kathun) and [**Max Stubenbord**](https://github.com/stubifox).\n",
    "\n",
    "Further Information as well as a Termpaper written in $\\LaTeX$ (German) is available on [Github](https://github.com/stubifox/ai-termpaper/tree/main/LaTeX). \n",
    "\n",
    "_It should be noted that the referenced repository is private._"
   ]
  },
  {
   "cell_type": "markdown",
   "metadata": {},
   "source": [
    "First we need to define a Data Structure to store our Puzzle Data. There is a variety of possible methods to achieve this, but we choose to use **Tuple of Tuples** since we used the same Data Structure in our [Artificial Intelligence](https://github.com/karlstroetmann/Artificial-Intelligence) Lecture.\n",
    "\n",
    "Furthermore to give the Instance of the Puzzle a **Name** &ndash;for structured testing&ndash; we wrapped it inside a Dictionary with it's properties being __name__ and __data__ (the Puzzle itself).\n",
    "\n",
    "For instance, given an already solved Puzzle \n",
    "\n",
    "<img src=\"./End_Puzzle_Stroetmann.png\" alt=\"drawing\" width=25%/>\n",
    "\n",
    "it's Python representation would be \n",
    "\n",
    "```python\n",
    "upperLeft = {\n",
    "    'data': ((0,  1,  2,  3),\n",
    "             (4,  5,  6,  7), \n",
    "             (8,  9,  10, 11),\n",
    "             (12, 13, 14, 15)),\n",
    "    'name': 'solved - Blank upper Left'\n",
    "}\n",
    "```\n",
    "\n",
    "with the property **name** being descriptive and **data** being the puzzle's representation as a Tuple in Python where the \n",
    "Blank-Field represents the number $0$\n",
    "\n",
    "\n",
    "\n"
   ]
  },
  {
   "cell_type": "markdown",
   "metadata": {},
   "source": [
    "### Begin of Implementation\n",
    "\n",
    "It follows a collection of Instances of Puzzles as well as some Goal States for Testing Purposes.\n",
    "\n",
    "All specified Instances are being stored inside two Lists called **Starts** and **Goals**\n",
    "\n",
    "_Not all defined Puzzle States serve a purpose. They might be useful for further future work._"
   ]
  },
  {
   "cell_type": "code",
   "execution_count": 13,
   "metadata": {},
   "outputs": [],
   "source": [
    "start1 = { \n",
    "    'data': ((13, 2,  10, 3),\n",
    "             (1,  12, 8,  4),\n",
    "             (5,  0,  9,  6),\n",
    "             (15, 14, 11, 7)), \n",
    "    'name': 'start1'}\n",
    "\n",
    "start2 = {\n",
    "    'data': ((0,  1,  2,  3),\n",
    "             (4,  5,  6,  8 ),\n",
    "             (14, 7,  11, 10),\n",
    "             (9,  15, 12, 13)\n",
    "         ),\n",
    "    'name': 'start2'\n",
    "}\n",
    "\n",
    "start3 = {\n",
    "    'data': ((6,  13, 7,  10),\n",
    "             (8,  9,  11, 0),\n",
    "             (15, 2,  12, 5),\n",
    "             (14, 3,  1,  4)),\n",
    "    'name': 'start3'\n",
    "}\n",
    "\n",
    "start4 = {\n",
    "    'data': ((3,  9,  1,  15),\n",
    "             (14, 11, 4,  6),\n",
    "             (13, 0,  10, 12),\n",
    "             (2,  7,  8,  5)),\n",
    "    'name': 'start4'\n",
    "}\n",
    "\n",
    "start5 = {\n",
    "    'data': ((1,  2,  3,  4 ),\n",
    "             (5,  6,  7,  8 ),\n",
    "             (9,  10, 11, 12 ),\n",
    "             (13, 15, 14, 0 )),\n",
    "    'name': 'start5'\n",
    "}\n",
    "\n",
    "upperLeft = {\n",
    "    'data': ((0,  1,  2,  3),\n",
    "             (4,  5,  6,  7), \n",
    "             (8,  9,  10, 11),\n",
    "             (12, 13, 14, 15)),\n",
    "    'name': 'solved - Blank upper Left'\n",
    "}\n",
    "\n",
    "downRight  = {\n",
    "    'data': ((1,  2,  3,  4),\n",
    "             (5,  6,  7,  8),\n",
    "             (9,  10, 11, 12),\n",
    "             (13, 14, 15, 0)),\n",
    "    'name': 'solved - Blank down Right'\n",
    "}\n",
    "upperRight = {\n",
    "    'data':((1,  2,  3,  0),\n",
    "            (4,  5,  6,  7), \n",
    "            (8,  9,  10, 11),\n",
    "            (12, 13, 14, 15)), \n",
    "    'name': 'solved - Blank upper Right'\n",
    "}\n",
    "downLeft = {\n",
    "    'data': ((1, 2,  3,  4),\n",
    "             (5, 6,  7,  8),\n",
    "             (9, 10, 11, 12),\n",
    "             (0, 13, 14, 15)),\n",
    "    'name': 'solved - Blank down Left'\n",
    "}\n",
    "spirale = {\n",
    "    'data': ((1,  2,  3,  4),\n",
    "             (12, 13, 14, 5),\n",
    "             (11, 0,  15, 6),\n",
    "             (10, 9,  8,  7)),\n",
    "    'name': 'spirale Goal'\n",
    "}\n",
    "Starts = [start1, start2, start3, start4, start5]\n",
    "Goals = [upperLeft, upperRight, downLeft, downRight, spirale]"
   ]
  },
  {
   "cell_type": "markdown",
   "metadata": {},
   "source": [
    "Now that we have defined our data structure and various puzzles we can continue to our algorithm which indicates whether a instance of a puzzle is solvable.\n",
    "\n",
    "Altough the underlaying theory is well discussed inside the Termpaper referenced above, here is a quick explanation of the idea: \n",
    "\n",
    "Generally speaking a puzzle instance is **solvable** if: \n",
    " \n",
    "The **parity** of the number of permutations inside the puzzle and the distance of the blank spot from the start state to the end state must be the same!\n",
    "\n",
    "We define **permutations** as\n",
    "\n",
    "Given a 1-Dimensional List with $n$ elements, the permutation count is defined as the number of inversions inside the list. For instance if our List would be $[a, b]$ our permutation count would be $1$ if $b < a$.\n",
    "\n",
    "For an example consider the following instance of a puzzle written as a Tuple of Tuples:\n",
    "\n",
    "<center>\n",
    "$((0,  1,  2,  3),$\n",
    "</center>\n",
    "<center>\n",
    "$(4,  5,  6,  7),$\n",
    "</center>\n",
    "<center>\n",
    "$(8,  9,  10, 11),$\n",
    "</center>\n",
    "<center>\n",
    "$(12, 15, 13, 14))$\n",
    "</center>\n",
    "\n",
    "it's representation in a 1-Dimensional List would be\n",
    "\n",
    "<center>\n",
    "$[0, 1, 2, 3, 4, 5, 6, 7, 8, 9, 10, 11, 12, 15, 13, 14]$\n",
    "</center>\n",
    "\n",
    "The permutation count would be $3$ here, since there are at least $3$ individual steps needed to bring $15, 13, 14$ in the right order\n",
    "\n"
   ]
  },
  {
   "cell_type": "markdown",
   "metadata": {},
   "source": [
    "\n",
    "\n",
    "\n",
    "\n",
    "\n",
    "\n",
    "### The problem now gets divided into sub-problems for easier implementation and understanding.\n",
    "\n",
    "Starting off with the function **to_1d** and it's brother **to_1d_lambda** which is basically another shorter notation. The shorter notation gets used inside the Termpaper so it is referenced here as well.\n",
    "\n",
    "The function takes a instance of a puzzle as an argument and converts the Tuple of Tuples into a List with dimension $1$"
   ]
  },
  {
   "cell_type": "code",
   "execution_count": 17,
   "metadata": {},
   "outputs": [],
   "source": [
    "def to_1d(Puzzle: tuple) -> list:\n",
    "    return [elem for tupl in Puzzle for elem in tupl]\n",
    "\n",
    "to_1d_lambda = lambda Puzzle: [elem for tupl in Puzzle for elem in tupl]"
   ]
  },
  {
   "cell_type": "markdown",
   "metadata": {},
   "source": [
    "Following with another helper function **swap** which swaps 2 elements inside a 1-Dimensional List. This takes advantage of  Pythons comma assigning."
   ]
  },
  {
   "cell_type": "code",
   "execution_count": 4,
   "metadata": {},
   "outputs": [],
   "source": [
    "def swap(idxA, idxB, Puzzle_1d):\n",
    "    Puzzle_1d[idxA], Puzzle_1d[idxB] = Puzzle_1d[idxB], Puzzle_1d[idxA]"
   ]
  },
  {
   "cell_type": "markdown",
   "metadata": {},
   "source": [
    "The function **find_tile_1d** returns the **index** of a given value inside a 1-Dimensional list"
   ]
  },
  {
   "cell_type": "code",
   "execution_count": 5,
   "metadata": {},
   "outputs": [],
   "source": [
    "def find_tile_1d(tile, State_1d):\n",
    "    n = len(State_1d)\n",
    "    for it in range(n):\n",
    "        if State_1d[it] == tile:\n",
    "            return it"
   ]
  },
  {
   "cell_type": "markdown",
   "metadata": {},
   "source": [
    "Now we want to calculate the **permutation count** as explained in the introduction.\n",
    "\n",
    "We provide 2 different implementations\n",
    "- the first takes an iterative approach\n",
    "- the second takes a recursive approach\n",
    "\n",
    "To get the permutation count we need to convert our puzzle instance into a 1-Dimensional list. We can do this with our helper function **to_1d**.\n",
    "\n",
    "Afterwards we need to count the number of permutations inside given list. To achieve this goal one could argue that any sorting algorithm could provide us the answer, by just counting the steps the algotithm takes to sort given list.\n",
    "\n",
    "Validating this hypothesis is neither in the scope of this implementation nor in the scope of the referenced Termpaper. \n",
    "\n",
    "\n",
    "Therefore we decided to generate a sorting algorithm based on swapping elements inside the original list. This proves to be an easy task since our end state written in a 1-Dimensional list is defined as numbers from $0..15$ already sorted. Meaning that the index equals the value in our sorted List.\n",
    "\n",
    "The next step is to just iterate over the list and search for a given index $i$  and its value $v$ if $i \\neq v$ where the value $v = i$ lies and then to **swap** them. \n",
    "\n",
    "For a given List $L$ do this until $\\forall$ index $i \\in L$ $\\exists$ $L[i] = i$\n",
    "\n",
    "And for every swap concluded we add $1$ to the **permutation count**\n",
    "\n",
    "Lastly we return the permutation count\n"
   ]
  },
  {
   "cell_type": "code",
   "execution_count": 18,
   "metadata": {},
   "outputs": [],
   "source": [
    "def get_permutation_count(Puzzle: tuple) -> int:\n",
    "    working_1d_puzzle = to_1d(Puzzle)\n",
    "    count = 0\n",
    "    for i in range(len(working_1d_puzzle)):\n",
    "        if working_1d_puzzle[i] != i:\n",
    "            count += 1\n",
    "            swap(i, find_tile_1d(i, working_1d_puzzle), working_1d_puzzle)\n",
    "    return count"
   ]
  },
  {
   "cell_type": "markdown",
   "metadata": {},
   "source": [
    "Now we provide a more complex recursive implementation and a assertion if both the iterative and the recursive implementation provide us the same output.\n",
    "\n",
    "We utilize the same helper functions inside the recursive implementation\n",
    "\n",
    "The general idea here is that the index gets calculated based on the _length_ of the 1-Dimensional puzzle and hence gets swapped with it's element. \n",
    "\n",
    "After a swap is concluded or simply did not have to be made, we shrinken the List by removing index 0 from the List and counting our swap count up or not changing it.\n",
    "\n",
    "This is done until our list contains 1 element, since the last element is always going to be in the right place because we know that every previous element is already sorted and we can return the **permutation count**\n",
    "\n",
    "We further wrap the recursive function inside a parent function to ease up the data structure conversion. "
   ]
  },
  {
   "cell_type": "code",
   "execution_count": 19,
   "metadata": {},
   "outputs": [],
   "source": [
    "def get_permutation_count_recursive(Puzzle: tuple) -> int:\n",
    "    Puzzle = to_1d(Puzzle)\n",
    "    def count(Puzzle, size):\n",
    "        if len(Puzzle) == 1:\n",
    "            return 0\n",
    "        curr_index = size - (len(Puzzle) - 1)\n",
    "        if Puzzle[0] != curr_index:\n",
    "            swap(0, find_tile_1d(curr_index, Puzzle), Puzzle)\n",
    "            return 1 + count(Puzzle[1:], size)\n",
    "        return count(Puzzle[1:], size)\n",
    "    return count(Puzzle, len(Puzzle) - 1)\n",
    "\n",
    "assert get_permutation_count_recursive(start1['data']) == get_permutation_count(start1['data'])"
   ]
  },
  {
   "cell_type": "markdown",
   "metadata": {},
   "source": [
    "The next function **find_tile** searches the $x,y$ position of a given tile in a provided State and returns the tiles' $x,y$ position starting in the upper left corner $(0,0)$"
   ]
  },
  {
   "cell_type": "code",
   "execution_count": 7,
   "metadata": {},
   "outputs": [],
   "source": [
    "def find_tile(tile, State):\n",
    "    n = len(State)\n",
    "    for row in range(n):\n",
    "        for col in range(n):\n",
    "            if State[row][col] == tile:\n",
    "                return row, col"
   ]
  },
  {
   "cell_type": "markdown",
   "metadata": {},
   "source": [
    "Next up we provide a implementation of the manhattan distance function.\n",
    "\n",
    "The Goal is to calculate the **distance** (measured in fields) between 2 given points of puzzle states.\n",
    "\n",
    "To achieve this we find the $x,y$ position of the blank-fields of the puzzles $A$ and $B$ using our function **find_tile**.\n",
    "\n",
    "We now have 4 points $x_A, y_A$ and $x_B, y_B$.\n",
    "\n",
    "The distance of those points is defined as\n",
    "<center>\n",
    "  $\\left | x_A - x_B \\right | + \\left | y_A - y_B \\right |$\n",
    "</center>"
   ]
  },
  {
   "cell_type": "code",
   "execution_count": 8,
   "metadata": {},
   "outputs": [],
   "source": [
    "def manhattan(stateA, stateB):\n",
    "    tile = 0\n",
    "    rowA, colA = find_tile(tile, stateA)\n",
    "    rowB, colB = find_tile(tile, stateB)\n",
    "    return abs(rowA - rowB) + abs(colA - colB)"
   ]
  },
  {
   "cell_type": "markdown",
   "metadata": {},
   "source": [
    "Lastly we compare the **parity** of the permutation count and the manhattan distance between the blank-fields of the starting puzzle states and the end goal puzzle state.\n",
    "\n",
    "Furthermore we provide a _**verbose**_ option for printing the steps.\n",
    "\n",
    "The return value of the function **is_solvable** is **True** if given puzzle is solvable and **False** if the puzzle is not solvable."
   ]
  },
  {
   "cell_type": "code",
   "execution_count": 11,
   "metadata": {},
   "outputs": [],
   "source": [
    "def is_solvable(Start: tuple, verbose: bool = False) -> int:\n",
    "    Destination: tuple = upperLeft\n",
    "    if verbose:\n",
    "        print(f\"Name: {Start['name']}\")\n",
    "        print(f\"Start is: {Start['data']}\")\n",
    "        print(f\"Inversion Count: {get_permutation_count(Start['data'])}\")\n",
    "        print(f\"Manhattan Distance: {manhattan(Start['data'], Destination['data'])}\")\n",
    "    return (get_permutation_count(Start['data']) + manhattan(Start['data'], Destination['data'])) % 2 == 0"
   ]
  },
  {
   "cell_type": "markdown",
   "metadata": {},
   "source": [
    "We can test this function by iterating over all **start states** and printing the verbose output in order to see whether they are solvable"
   ]
  },
  {
   "cell_type": "code",
   "execution_count": 12,
   "metadata": {},
   "outputs": [
    {
     "name": "stdout",
     "output_type": "stream",
     "text": [
      "Name: start1\n",
      "Start is: ((13, 2, 10, 3), (1, 12, 8, 4), (5, 0, 9, 6), (15, 14, 11, 7))\n",
      "Inversion Count: 14\n",
      "Manhattan Distance: 3\n",
      "is solvable: False\n",
      "\n",
      "\n",
      "Name: start2\n",
      "Start is: ((0, 1, 2, 3), (4, 5, 6, 8), (14, 7, 11, 10), (9, 15, 12, 13))\n",
      "Inversion Count: 6\n",
      "Manhattan Distance: 0\n",
      "is solvable: True\n",
      "\n",
      "\n",
      "Name: start3\n",
      "Start is: ((6, 13, 7, 10), (8, 9, 11, 0), (15, 2, 12, 5), (14, 3, 1, 4))\n",
      "Inversion Count: 13\n",
      "Manhattan Distance: 4\n",
      "is solvable: False\n",
      "\n",
      "\n",
      "Name: start4\n",
      "Start is: ((3, 9, 1, 15), (14, 11, 4, 6), (13, 0, 10, 12), (2, 7, 8, 5))\n",
      "Inversion Count: 13\n",
      "Manhattan Distance: 3\n",
      "is solvable: True\n",
      "\n",
      "\n",
      "Name: start5\n",
      "Start is: ((1, 2, 3, 4), (5, 6, 7, 8), (9, 10, 11, 12), (13, 15, 14, 0))\n",
      "Inversion Count: 14\n",
      "Manhattan Distance: 6\n",
      "is solvable: True\n",
      "\n",
      "\n"
     ]
    }
   ],
   "source": [
    "for s in Starts:\n",
    "    print(f\"is solvable: {is_solvable(s, verbose=True)}\")\n",
    "    print('\\n')"
   ]
  }
 ],
 "metadata": {
  "kernelspec": {
   "display_name": "Python 3",
   "language": "python",
   "name": "python3"
  },
  "language_info": {
   "codemirror_mode": {
    "name": "ipython",
    "version": 3
   },
   "file_extension": ".py",
   "mimetype": "text/x-python",
   "name": "python",
   "nbconvert_exporter": "python",
   "pygments_lexer": "ipython3",
   "version": "3.7.3"
  }
 },
 "nbformat": 4,
 "nbformat_minor": 2
}
