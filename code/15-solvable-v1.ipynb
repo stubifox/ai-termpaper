{
 "cells": [
  {
   "cell_type": "markdown",
   "metadata": {},
   "source": [
    "## Lösbarkeitsüberprüfung eines 15-Puzzels"
   ]
  },
  {
   "cell_type": "markdown",
   "metadata": {},
   "source": [
    "If N is even, puzzle instance is solvable if \n",
    "* the blank is on an even row counting from the bottom (second-last, fourth-last, etc.) and number of inversions is odd.\n",
    "* the blank is on an odd row counting from the bottom (last, third-last, fifth-last, etc.) and number of inversions is even.\n",
    "What is an inversion here? \n",
    "\n",
    "If we assume the tiles written out in a single row (1D Array) instead of being spread in N-rows (2D Array), a pair of tiles (a, b) form an inversion if a appears before b but a > b. \n",
    "\n",
    "For above example, consider the tiles written out in a row, like this: \n",
    "2 1 3 4 5 6 7 8 9 10 11 12 13 14 15 X \n",
    "The above grid forms only 1 inversion i.e. (2, 1)."
   ]
  },
  {
   "cell_type": "code",
   "execution_count": 3,
   "metadata": {},
   "outputs": [],
   "source": [
    "#solvable 41, 2 - website\n",
    "start1 = { \n",
    "    'data':((13, 2, 10, 3),\n",
    "          (1, 12, 8, 4),\n",
    "          (5, 0, 9, 6),\n",
    "         (15, 14, 11, 7)), \n",
    "    'name': 'start1'}\n",
    "\n",
    "#solvable 12, 1, stroetmann\n",
    "start2 = {\n",
    "    'data': ((0,  1,  2,  3 ),\n",
    "           (  4,  5,  6,  8 ),\n",
    "           ( 14,  7, 11, 10 ),\n",
    "           (  9, 15, 12, 13 )\n",
    "         ),\n",
    "    'name': 'start2'\n",
    "}\n",
    "#solvable 62, 3 - website\n",
    "start3 = {\n",
    "    'data': ((6, 13, 7, 10),\n",
    "    (8, 9, 11, 0),\n",
    "    (15, 2, 12, 5),\n",
    "    (14, 3, 1, 4)),\n",
    "    'name': 'start3'\n",
    "}\n",
    "\n",
    "#unsolvable ? 56, 2 - website\n",
    "start4 = {\n",
    "    'data': ((3, 9, 1, 15),\n",
    "    (14, 11, 4, 6),\n",
    "    (13, 0, 10 ,12),\n",
    "    (2, 7, 8, 5)),\n",
    "    'name': 'start4'\n",
    "}\n",
    "\n",
    "start5 = {\n",
    "    'data': ((1,  2,  3, 4 ),\n",
    "           ( 5,  6,  7, 8 ),\n",
    "           ( 9, 10, 11, 12 ),\n",
    "           (13, 15, 14, 0 )),\n",
    "    'name': 'start5'\n",
    "}\n",
    "\n",
    "upperLeft = {\n",
    "    'data': ((0, 1, 2, 3),\n",
    "          (4, 5, 6, 7), \n",
    "          (8, 9, 10, 11),\n",
    "          (12, 13, 14, 15)),\n",
    "    'name': 'solved - Blank upper Left'\n",
    "}\n",
    "\n",
    "downRight  = {\n",
    "    'data': ((1, 2, 3, 4 ),\n",
    "           (5, 6, 7, 8 ),\n",
    "           (9, 10, 11, 12 ),\n",
    "           (13, 14, 15, 0 )),\n",
    "    'name': 'solved - Blank down Right'\n",
    "}\n",
    "upperRight = {\n",
    "    'data':((1, 2, 3, 0),\n",
    "          (4, 5, 6, 7), \n",
    "          (8, 9, 10, 11),\n",
    "          (12, 13, 14, 15)), \n",
    "    'name': 'solved - Blank upper Right'\n",
    "}\n",
    "downLeft = {\n",
    "    'data': ((1, 2, 3, 4 ),\n",
    "           (5, 6, 7, 8 ),\n",
    "           (9, 10, 11, 12 ),\n",
    "           (0, 13, 14, 15 )),\n",
    "    'name': 'solved - Blank down Left'\n",
    "}\n",
    "spirale = {\n",
    "    'data': ((1, 2, 3, 4),\n",
    "           (12, 13, 14, 5),\n",
    "           (11, 0, 15, 6),\n",
    "           (10, 9, 8, 7)),\n",
    "    'name': 'spirale Goal'\n",
    "}\n",
    "Starts = [start1, start2, start3, start4, start5]\n",
    "Goals = [upperLeft, upperRight, downLeft, downRight, spirale]"
   ]
  },
  {
   "cell_type": "code",
   "execution_count": 5,
   "metadata": {},
   "outputs": [],
   "source": [
    "def to_1d(Puzzle: tuple) -> list:\n",
    "    return [elem for tupl in Puzzle for elem in tupl]\n",
    "to_1d2 = lambda Puzzle: [elem for tupl in Puzzle for elem in tupl]"
   ]
  },
  {
   "cell_type": "code",
   "execution_count": 9,
   "metadata": {},
   "outputs": [],
   "source": [
    "def swap(idxA, idxB, Puzzle_1d):\n",
    "    Puzzle_1d[idxA], Puzzle_1d[idxB] = Puzzle_1d[idxB], Puzzle_1d[idxA]"
   ]
  },
  {
   "cell_type": "code",
   "execution_count": 15,
   "metadata": {},
   "outputs": [],
   "source": [
    "def find_tile_1d(tile, State_1d):\n",
    "    n = len(State_1d)\n",
    "    for it in range(n):\n",
    "        if State_1d[it] == tile:\n",
    "            return it"
   ]
  },
  {
   "cell_type": "code",
   "execution_count": 80,
   "metadata": {},
   "outputs": [],
   "source": [
    "def get_inversion_count(Puzzle: tuple) -> int:\n",
    "    working_1d_puzzle = to_1d(Puzzle)\n",
    "    count = 0\n",
    "    for i in range(len(working_1d_puzzle)):\n",
    "        if working_1d_puzzle[i] != i:\n",
    "            count += 1\n",
    "            swap(i, find_tile_1d(i, working_1d_puzzle), working_1d_puzzle)\n",
    "    return count\n",
    "\n",
    "def get_inversion_count_recursive(Puzzle: tuple) -> int:\n",
    "    Puzzle = to_1d(Puzzle)\n",
    "    def count(Puzzle, size):\n",
    "        if len(Puzzle) == 1:\n",
    "            return 0\n",
    "        curr_index = size - (len(Puzzle) - 1)\n",
    "        if Puzzle[0] != curr_index:\n",
    "            swap(0, find_tile_1d(curr_index, Puzzle), Puzzle)\n",
    "            return 1 + count(Puzzle[1:], size)\n",
    "        return count(Puzzle[1:], size)\n",
    "    return count(Puzzle, len(Puzzle) - 1)\n",
    "\n",
    "assert get_inversion_count_recursive(start1['data']) == get_inversion_count(start1['data'])"
   ]
  },
  {
   "cell_type": "code",
   "execution_count": 6,
   "metadata": {},
   "outputs": [],
   "source": [
    "def find_tile(tile, State):\n",
    "    n = len(State)\n",
    "    for row in range(n):\n",
    "        for col in range(n):\n",
    "            if State[row][col] == tile:\n",
    "                return row, col"
   ]
  },
  {
   "cell_type": "code",
   "execution_count": 81,
   "metadata": {},
   "outputs": [],
   "source": [
    "def manhattan(stateA, stateB):\n",
    "    tile = 0\n",
    "    rowA, colA = find_tile(tile, stateA)\n",
    "    rowB, colB = find_tile(tile, stateB)\n",
    "    return abs(rowA - rowB) + abs(colA - colB)"
   ]
  },
  {
   "cell_type": "code",
   "execution_count": 8,
   "metadata": {},
   "outputs": [],
   "source": [
    "def is_solvable(Start: tuple, verbose: bool = False) -> int:\n",
    "    Destination: tuple = upperLeft\n",
    "    if verbose:\n",
    "        print(f\"Name: {Start['name']}\")\n",
    "        print(f\"Start is: {Start['data']}\")\n",
    "        print(f\"Inversion Count: {get_inversion_count(Start['data'])}\")\n",
    "        print(f\"Manhattan Distance: {manhattan(Start['data'], Destination['data'])}\")\n",
    "    return (get_inversion_count(Start['data']) + manhattan(Start['data'], Destination['data'])) % 2 == 0"
   ]
  },
  {
   "cell_type": "code",
   "execution_count": 9,
   "metadata": {},
   "outputs": [
    {
     "name": "stdout",
     "output_type": "stream",
     "text": [
      "Name: start1\n",
      "Start is: ((13, 2, 10, 3), (1, 12, 8, 4), (5, 0, 9, 6), (15, 14, 11, 7))\n",
      "Inversion Count: 14\n",
      "Manhattan Distance: 3\n",
      "is solvable: False\n",
      "\n",
      "\n",
      "Name: start2\n",
      "Start is: ((0, 1, 2, 3), (4, 5, 6, 8), (14, 7, 11, 10), (9, 15, 12, 13))\n",
      "Inversion Count: 6\n",
      "Manhattan Distance: 0\n",
      "is solvable: True\n",
      "\n",
      "\n",
      "Name: start3\n",
      "Start is: ((6, 13, 7, 10), (8, 9, 11, 0), (15, 2, 12, 5), (14, 3, 1, 4))\n",
      "Inversion Count: 13\n",
      "Manhattan Distance: 4\n",
      "is solvable: False\n",
      "\n",
      "\n",
      "Name: start4\n",
      "Start is: ((3, 9, 1, 15), (14, 11, 4, 6), (13, 0, 10, 12), (2, 7, 8, 5))\n",
      "Inversion Count: 13\n",
      "Manhattan Distance: 3\n",
      "is solvable: True\n",
      "\n",
      "\n",
      "Name: start5\n",
      "Start is: ((1, 2, 3, 4), (5, 6, 7, 8), (9, 10, 11, 12), (13, 15, 14, 0))\n",
      "Inversion Count: 14\n",
      "Manhattan Distance: 6\n",
      "is solvable: True\n",
      "\n",
      "\n"
     ]
    }
   ],
   "source": [
    "for s in Starts:\n",
    "    print(f\"is solvable: {is_solvable(s, verbose=True)}\")\n",
    "    print('\\n')"
   ]
  },
  {
   "cell_type": "code",
   "execution_count": 10,
   "metadata": {},
   "outputs": [
    {
     "data": {
      "text/plain": [
       "13"
      ]
     },
     "execution_count": 10,
     "metadata": {},
     "output_type": "execute_result"
    }
   ],
   "source": [
    "get_inversion_count(start4['data'])"
   ]
  },
  {
   "cell_type": "code",
   "execution_count": null,
   "metadata": {},
   "outputs": [],
   "source": []
  }
 ],
 "metadata": {
  "kernelspec": {
   "display_name": "Python 3",
   "language": "python",
   "name": "python3"
  },
  "language_info": {
   "codemirror_mode": {
    "name": "ipython",
    "version": 3
   },
   "file_extension": ".py",
   "mimetype": "text/x-python",
   "name": "python",
   "nbconvert_exporter": "python",
   "pygments_lexer": "ipython3",
   "version": "3.7.3"
  }
 },
 "nbformat": 4,
 "nbformat_minor": 2
}
