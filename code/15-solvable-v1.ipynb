{
 "cells": [
  {
   "cell_type": "markdown",
   "metadata": {},
   "source": [
    "## Lösbarkeitsüberprüfung eines 15-Puzzels"
   ]
  },
  {
   "cell_type": "markdown",
   "metadata": {},
   "source": [
    "If N is even, puzzle instance is solvable if \n",
    "* the blank is on an even row counting from the bottom (second-last, fourth-last, etc.) and number of inversions is odd.\n",
    "* the blank is on an odd row counting from the bottom (last, third-last, fifth-last, etc.) and number of inversions is even.\n",
    "What is an inversion here? \n",
    "\n",
    "If we assume the tiles written out in a single row (1D Array) instead of being spread in N-rows (2D Array), a pair of tiles (a, b) form an inversion if a appears before b but a > b. \n",
    "\n",
    "For above example, consider the tiles written out in a row, like this: \n",
    "2 1 3 4 5 6 7 8 9 10 11 12 13 14 15 X \n",
    "The above grid forms only 1 inversion i.e. (2, 1)."
   ]
  },
  {
   "cell_type": "code",
   "execution_count": 1,
   "metadata": {},
   "outputs": [],
   "source": [
    "#solvable 41, 2 - website\n",
    "start1 = ( (13, 2, 10, 3),\n",
    "          (1, 12, 8, 4),\n",
    "          (5, 0, 9, 6),\n",
    "         (15, 14, 11, 7)\n",
    "        )\n",
    "\n",
    "#solvable 12, 1, stroetmann\n",
    "start2 = ( (  0,  1,  2,  3 ),\n",
    "           (  4,  5,  6,  8 ),\n",
    "           ( 14,  7, 11, 10 ),\n",
    "           (  9, 15, 12, 13 )\n",
    "         )\n",
    "#solvable 62, 3 - website\n",
    "start3 = (\n",
    "    (6, 13, 7, 10),\n",
    "    (8, 9, 11, 0),\n",
    "    (15, 2, 12, 5),\n",
    "    (14, 3, 1, 4)\n",
    ")\n",
    "\n",
    "#unsolvable ? 56, 2 - website\n",
    "start4 = (\n",
    "(3, 9, 1, 15),\n",
    "    (14, 11, 4, 6),\n",
    "    (13, 0, 10 ,12),\n",
    "    (2, 7, 8, 5)\n",
    ")\n",
    "start5 = ( (  1,  2,  3, 4 ),\n",
    "           ( 5,  6,  7, 8 ),\n",
    "           ( 9, 10, 11, 12 ),\n",
    "           (  13, 15, 14, 0 )\n",
    "         )\n",
    "upperLeft = ((0, 1, 2, 3),\n",
    "          (4, 5,6,7), \n",
    "          (8, 9, 10, 11),\n",
    "          (12, 13, 14, 15)\n",
    "         )\n",
    "downRight  = ( (  1, 2, 3, 4 ),\n",
    "           (  5, 6, 7, 8 ),\n",
    "           (  9, 10, 11, 12 ),\n",
    "           ( 13, 14, 15, 0 ))\n",
    "upperRight = ((1, 2, 3, 0),\n",
    "          (4, 5,6,7), \n",
    "          (8, 9, 10, 11),\n",
    "          (12, 13, 14, 15)\n",
    "         )\n",
    "downLeft = ( (  1, 2, 3, 4 ),\n",
    "           (  5, 6, 7, 8 ),\n",
    "           (  9, 10, 11, 12 ),\n",
    "           ( 0, 13, 14, 15 ))\n",
    "spirale = ((1, 2, 3, 4),\n",
    "           (12, 13,14, 5),\n",
    "           (11,0,15,6),\n",
    "           (10,9,8,7)\n",
    "          )\n",
    "Starts = [start1, start2, start3, start4, start5]\n",
    "Goals = [upperLeft, upperRight, downLeft, downRight, spirale]"
   ]
  },
  {
   "cell_type": "code",
   "execution_count": 2,
   "metadata": {},
   "outputs": [],
   "source": [
    "def to_1d(Puzzle: tuple) -> list:\n",
    "    return [elem for tupl in Puzzle for elem in tupl]"
   ]
  },
  {
   "cell_type": "code",
   "execution_count": 15,
   "metadata": {},
   "outputs": [],
   "source": [
    "def swap(idxA, idxB, Puzzle_1d):\n",
    "    Puzzle[idxA], Puzzle[idxB] = Puzzle[idxB], Puzzle[idxA]"
   ]
  },
  {
   "cell_type": "code",
   "execution_count": 3,
   "metadata": {},
   "outputs": [],
   "source": [
    "def get_inversion_count(Puzzle: tuple) -> int:\n",
    "    working_1d_puzle = to_1d(Puzzle)\n",
    "    working_1d_puzle.remove(0)\n",
    "    count = 0\n",
    "    old_count = -1\n",
    "    while old_count != count:\n",
    "        old_count = count\n",
    "        for i in range(len(working_1d_puzle) - 1):\n",
    "            if working_1d_puzle[i] > working_1d_puzle[i + 1]:\n",
    "                count += 1\n",
    "                working_1d_puzle[i], working_1d_puzle[i + 1] = working_1d_puzle[i + 1], working_1d_puzle[i]\n",
    "    return count"
   ]
  },
  {
   "cell_type": "code",
   "execution_count": 26,
   "metadata": {},
   "outputs": [],
   "source": [
    "def is_equal(Puzzle_1d, Destination_1d):\n",
    "    return Puzzle_1d == Destination_1d"
   ]
  },
  {
   "cell_type": "code",
   "execution_count": 20,
   "metadata": {},
   "outputs": [],
   "source": [
    "def get_inversion_count_new(Puzzle: tuple, Destination: tuple) -> int:\n",
    "    puzzle_1d = to_1d(Puzzle)\n",
    "    destination_1d = to_1d(Destination)\n",
    "    count = 0\n",
    "    old_count = -1\n",
    "    while not is_equal(puzzle_1d, destination_1d):\n",
    "        old_count = count\n",
    "        for i in range(len(working_1d_puzle) - 1):\n",
    "            if working_1d_puzle[i] > working_1d_puzle[i + 1]:\n",
    "                count += 1\n",
    "                swap(i, i + 1, puzzle_1d)\n",
    "    return count"
   ]
  },
  {
   "cell_type": "code",
   "execution_count": 4,
   "metadata": {},
   "outputs": [],
   "source": [
    "def find_tile(tile, State):\n",
    "    n = len(State)\n",
    "    for row in range(n):\n",
    "        for col in range(n):\n",
    "            if State[row][col] == tile:\n",
    "                return row, col"
   ]
  },
  {
   "cell_type": "code",
   "execution_count": 5,
   "metadata": {},
   "outputs": [],
   "source": [
    "def manhattan(stateA, stateB):\n",
    "    n = len(stateA)\n",
    "    result = 0\n",
    "    for rowA in range(n):\n",
    "        for colA in range(n): \n",
    "            tile = stateA[rowA][colA]\n",
    "            if tile != 0:\n",
    "                rowB, colB = find_tile(tile, stateB)\n",
    "                result += abs(rowA - rowB) + abs(colA - colB)\n",
    "    return result"
   ]
  },
  {
   "cell_type": "code",
   "execution_count": 6,
   "metadata": {},
   "outputs": [],
   "source": [
    "def is_solvable_by_row_new(Puzzle: tuple, Destination: tuple) -> int:\n",
    "    print(Puzzle)\n",
    "    print(get_inversion_count(Puzzle))\n",
    "    print(manhattan(Puzzle, Destination))\n",
    "    return (get_inversion_count(Destination) + manhattan(Puzzle, Destination)) % 2 == 0"
   ]
  },
  {
   "cell_type": "code",
   "execution_count": 7,
   "metadata": {},
   "outputs": [],
   "source": [
    "def get_blank_position(Puzzle: tuple, blank_spot_pos: int) -> int:\n",
    "    length = len(Puzzle)\n",
    "    index = to_1d(Puzzle).index(0) // length\n",
    "    if blank_spot_pos == 0:\n",
    "        return index + 1\n",
    "    return length - index"
   ]
  },
  {
   "cell_type": "code",
   "execution_count": 8,
   "metadata": {},
   "outputs": [],
   "source": [
    "def is_solvable_by_row(Puzzle: tuple, blank_spot_row: int) -> bool:\n",
    "    print(Puzzle)\n",
    "    print(get_inversion_count(Puzzle))\n",
    "    print(get_blank_position(Puzzle, blank_spot_row))\n",
    "    return (get_inversion_count(Puzzle) + get_blank_position(Puzzle, blank_spot_row)) % 2 == 1"
   ]
  },
  {
   "cell_type": "code",
   "execution_count": 10,
   "metadata": {},
   "outputs": [],
   "source": [
    "# for p in Puzzles:\n",
    "#     print('Website Loesung')\n",
    "#     print(is_solvable_by_row(p, 3))\n",
    "#     print('\\n')\n",
    "#     print('Stroetmanns Loesung')\n",
    "#     print(is_solvable_by_row(p, 0))\n",
    "#     print('\\n')"
   ]
  },
  {
   "cell_type": "code",
   "execution_count": 11,
   "metadata": {},
   "outputs": [
    {
     "name": "stdout",
     "output_type": "stream",
     "text": [
      "start1\n",
      "goal0\n",
      "((13, 2, 10, 3), (1, 12, 8, 4), (5, 0, 9, 6), (15, 14, 11, 7))\n",
      "41\n",
      "31\n",
      "False\n",
      "\n",
      "\n",
      "start1\n",
      "goal1\n",
      "((13, 2, 10, 3), (1, 12, 8, 4), (5, 0, 9, 6), (15, 14, 11, 7))\n",
      "41\n",
      "30\n",
      "True\n",
      "\n",
      "\n",
      "start1\n",
      "goal2\n",
      "((13, 2, 10, 3), (1, 12, 8, 4), (5, 0, 9, 6), (15, 14, 11, 7))\n",
      "41\n",
      "28\n",
      "True\n",
      "\n",
      "\n",
      "start1\n",
      "goal3\n",
      "((13, 2, 10, 3), (1, 12, 8, 4), (5, 0, 9, 6), (15, 14, 11, 7))\n",
      "41\n",
      "25\n",
      "False\n",
      "\n",
      "\n",
      "start1\n",
      "goal4\n",
      "((13, 2, 10, 3), (1, 12, 8, 4), (5, 0, 9, 6), (15, 14, 11, 7))\n",
      "41\n",
      "28\n",
      "False\n",
      "\n",
      "\n",
      "start2\n",
      "goal0\n",
      "((0, 1, 2, 3), (4, 5, 6, 8), (14, 7, 11, 10), (9, 15, 12, 13))\n",
      "12\n",
      "20\n",
      "True\n",
      "\n",
      "\n",
      "start2\n",
      "goal1\n",
      "((0, 1, 2, 3), (4, 5, 6, 8), (14, 7, 11, 10), (9, 15, 12, 13))\n",
      "12\n",
      "23\n",
      "False\n",
      "\n",
      "\n",
      "start2\n",
      "goal2\n",
      "((0, 1, 2, 3), (4, 5, 6, 8), (14, 7, 11, 10), (9, 15, 12, 13))\n",
      "12\n",
      "23\n",
      "False\n",
      "\n",
      "\n",
      "start2\n",
      "goal3\n",
      "((0, 1, 2, 3), (4, 5, 6, 8), (14, 7, 11, 10), (9, 15, 12, 13))\n",
      "12\n",
      "22\n",
      "True\n",
      "\n",
      "\n",
      "start2\n",
      "goal4\n",
      "((0, 1, 2, 3), (4, 5, 6, 8), (14, 7, 11, 10), (9, 15, 12, 13))\n",
      "12\n",
      "37\n",
      "True\n",
      "\n",
      "\n",
      "start3\n",
      "goal0\n",
      "((6, 13, 7, 10), (8, 9, 11, 0), (15, 2, 12, 5), (14, 3, 1, 4))\n",
      "62\n",
      "44\n",
      "True\n",
      "\n",
      "\n",
      "start3\n",
      "goal1\n",
      "((6, 13, 7, 10), (8, 9, 11, 0), (15, 2, 12, 5), (14, 3, 1, 4))\n",
      "62\n",
      "43\n",
      "False\n",
      "\n",
      "\n",
      "start3\n",
      "goal2\n",
      "((6, 13, 7, 10), (8, 9, 11, 0), (15, 2, 12, 5), (14, 3, 1, 4))\n",
      "62\n",
      "41\n",
      "False\n",
      "\n",
      "\n",
      "start3\n",
      "goal3\n",
      "((6, 13, 7, 10), (8, 9, 11, 0), (15, 2, 12, 5), (14, 3, 1, 4))\n",
      "62\n",
      "40\n",
      "True\n",
      "\n",
      "\n",
      "start3\n",
      "goal4\n",
      "((6, 13, 7, 10), (8, 9, 11, 0), (15, 2, 12, 5), (14, 3, 1, 4))\n",
      "62\n",
      "49\n",
      "True\n",
      "\n",
      "\n",
      "start4\n",
      "goal0\n",
      "((3, 9, 1, 15), (14, 11, 4, 6), (13, 0, 10, 12), (2, 7, 8, 5))\n",
      "56\n",
      "41\n",
      "False\n",
      "\n",
      "\n",
      "start4\n",
      "goal1\n",
      "((3, 9, 1, 15), (14, 11, 4, 6), (13, 0, 10, 12), (2, 7, 8, 5))\n",
      "56\n",
      "40\n",
      "True\n",
      "\n",
      "\n",
      "start4\n",
      "goal2\n",
      "((3, 9, 1, 15), (14, 11, 4, 6), (13, 0, 10, 12), (2, 7, 8, 5))\n",
      "56\n",
      "38\n",
      "True\n",
      "\n",
      "\n",
      "start4\n",
      "goal3\n",
      "((3, 9, 1, 15), (14, 11, 4, 6), (13, 0, 10, 12), (2, 7, 8, 5))\n",
      "56\n",
      "37\n",
      "False\n",
      "\n",
      "\n",
      "start4\n",
      "goal4\n",
      "((3, 9, 1, 15), (14, 11, 4, 6), (13, 0, 10, 12), (2, 7, 8, 5))\n",
      "56\n",
      "34\n",
      "False\n",
      "\n",
      "\n",
      "start5\n",
      "goal0\n",
      "((1, 2, 3, 4), (5, 6, 7, 8), (9, 10, 11, 12), (13, 15, 14, 0))\n",
      "1\n",
      "24\n",
      "True\n",
      "\n",
      "\n",
      "start5\n",
      "goal1\n",
      "((1, 2, 3, 4), (5, 6, 7, 8), (9, 10, 11, 12), (13, 15, 14, 0))\n",
      "1\n",
      "21\n",
      "False\n",
      "\n",
      "\n",
      "start5\n",
      "goal2\n",
      "((1, 2, 3, 4), (5, 6, 7, 8), (9, 10, 11, 12), (13, 15, 14, 0))\n",
      "1\n",
      "3\n",
      "False\n",
      "\n",
      "\n",
      "start5\n",
      "goal3\n",
      "((1, 2, 3, 4), (5, 6, 7, 8), (9, 10, 11, 12), (13, 15, 14, 0))\n",
      "1\n",
      "2\n",
      "True\n",
      "\n",
      "\n",
      "start5\n",
      "goal4\n",
      "((1, 2, 3, 4), (5, 6, 7, 8), (9, 10, 11, 12), (13, 15, 14, 0))\n",
      "1\n",
      "29\n",
      "True\n",
      "\n",
      "\n"
     ]
    }
   ],
   "source": [
    "for idx, s in enumerate(Starts):\n",
    "    for idx2, g in enumerate(Goals):\n",
    "        print(f'start{idx + 1}')\n",
    "        print(f'goal{idx2}')\n",
    "        print(is_solvable_by_row_new(s, g))\n",
    "        print('\\n')\n",
    "        "
   ]
  },
  {
   "cell_type": "code",
   "execution_count": 12,
   "metadata": {},
   "outputs": [
    {
     "name": "stdout",
     "output_type": "stream",
     "text": [
      "((0, 1, 2, 3), (4, 5, 6, 7), (8, 9, 10, 11), (12, 13, 14, 15))\n",
      "0\n",
      "24\n"
     ]
    },
    {
     "data": {
      "text/plain": [
       "True"
      ]
     },
     "execution_count": 12,
     "metadata": {},
     "output_type": "execute_result"
    }
   ],
   "source": [
    "is_solvable_by_row_new(upperLeft, downRight)"
   ]
  },
  {
   "cell_type": "code",
   "execution_count": 13,
   "metadata": {},
   "outputs": [
    {
     "name": "stdout",
     "output_type": "stream",
     "text": [
      "((0, 1, 2, 3), (4, 5, 6, 7), (8, 9, 10, 11), (12, 13, 14, 15))\n",
      "0\n",
      "4\n"
     ]
    },
    {
     "data": {
      "text/plain": [
       "False"
      ]
     },
     "execution_count": 13,
     "metadata": {},
     "output_type": "execute_result"
    }
   ],
   "source": [
    "is_solvable_by_row(upperLeft, 3)"
   ]
  },
  {
   "cell_type": "code",
   "execution_count": 14,
   "metadata": {},
   "outputs": [
    {
     "name": "stdout",
     "output_type": "stream",
     "text": [
      "((1, 2, 3, 4), (5, 6, 7, 8), (9, 10, 11, 12), (13, 14, 15, 0))\n",
      "0\n",
      "29\n"
     ]
    },
    {
     "data": {
      "text/plain": [
       "True"
      ]
     },
     "execution_count": 14,
     "metadata": {},
     "output_type": "execute_result"
    }
   ],
   "source": [
    "is_solvable_by_row_new(downRight, spirale)"
   ]
  },
  {
   "cell_type": "code",
   "execution_count": null,
   "metadata": {},
   "outputs": [],
   "source": []
  }
 ],
 "metadata": {
  "kernelspec": {
   "display_name": "Python 3",
   "language": "python",
   "name": "python3"
  },
  "language_info": {
   "codemirror_mode": {
    "name": "ipython",
    "version": 3
   },
   "file_extension": ".py",
   "mimetype": "text/x-python",
   "name": "python",
   "nbconvert_exporter": "python",
   "pygments_lexer": "ipython3",
   "version": "3.7.3"
  }
 },
 "nbformat": 4,
 "nbformat_minor": 2
}
